{
  "cells": [
    {
      "cell_type": "code",
      "execution_count": null,
      "metadata": {
        "colab": {
          "base_uri": "https://localhost:8080/",
          "height": 1000
        },
        "collapsed": true,
        "id": "CWucY1Ocze3f",
        "outputId": "84140352-9db5-431e-bffb-76e4ae02e7c7"
      },
      "outputs": [],
      "source": [
        "# Install required LangChain, ChromaDB, and gemini packages for building the RAG agent\n",
        "\n",
        "!pip install chromadb langchain langchain-core langchain-community langchain-google-genai google-generativeai"
      ]
    },
    {
      "cell_type": "code",
      "execution_count": null,
      "metadata": {},
      "outputs": [],
      "source": [
        "!pip install python-dotenv"
      ]
    },
    {
      "cell_type": "code",
      "execution_count": 3,
      "metadata": {},
      "outputs": [],
      "source": [
        "from dotenv import load_dotenv\n",
        "import os\n",
        "\n",
        "# Load the .env file\n",
        "load_dotenv()\n",
        "\n",
        "# Access the API key\n",
        "api_key = os.getenv(\"API_KEY\")\n",
        "os.environ['GOOGLE_API_KEY'] = api_key # Replace with your actual key"
      ]
    },
    {
      "cell_type": "code",
      "execution_count": 4,
      "metadata": {
        "id": "Fbuq6Yct0Oq7"
      },
      "outputs": [
        {
          "name": "stderr",
          "output_type": "stream",
          "text": [
            "USER_AGENT environment variable not set, consider setting it to identify your requests.\n"
          ]
        }
      ],
      "source": [
        "# Load web page content from the given Coursera URL using LangChain's WebBaseLoader\n",
        "\n",
        "from langchain_community.document_loaders import WebBaseLoader\n",
        "\n",
        "loader = WebBaseLoader(web_paths=[\"https://www.coursera.org/learn/deep-neural-network\"])\n",
        "\n",
        "docs = loader.load()\n",
        "#print(docs)"
      ]
    },
    {
      "cell_type": "code",
      "execution_count": 5,
      "metadata": {
        "id": "hua83JU_0VJg"
      },
      "outputs": [],
      "source": [
        "# Split loaded documents into chunks of 1000 characters with 200-character overlap for better context handling\n",
        "\n",
        "from langchain.text_splitter import RecursiveCharacterTextSplitter\n",
        "\n",
        "text_splitter = RecursiveCharacterTextSplitter(chunk_size = 1000, chunk_overlap = 200)\n",
        "splits = text_splitter.split_documents(docs)"
      ]
    },
    {
      "cell_type": "code",
      "execution_count": 6,
      "metadata": {
        "colab": {
          "base_uri": "https://localhost:8080/"
        },
        "id": "v3VwCxai0WdM",
        "outputId": "156a7ae7-0366-455d-a6eb-bc625587282b"
      },
      "outputs": [
        {
          "name": "stdout",
          "output_type": "stream",
          "text": [
            "page_content='For IndividualsFor BusinessesFor UniversitiesFor GovernmentsExploreOnline DegreesCareersLog InJoin for Free0Improving Deep Neural Networks: Hyperparameter Tuning, Regularization and OptimizationAboutOutcomesModulesRecommendationsTestimonialsReviewsBrowseData ScienceMachine LearningImproving Deep Neural Networks: Hyperparameter Tuning, Regularization and OptimizationThis course is part of Deep Learning SpecializationInstructors: Andrew Ng +2 moreInstructorsInstructor ratingsWe asked all learners to give feedback on our instructors based on the quality of their teaching style.4.9 (4,890 ratings)Top InstructorAndrew NgDeepLearning.AI51 Courses•8,638,592 learnersTop InstructorKian KatanforooshDeepLearning.AI22 Courses•1,615,952 learnersTop InstructorYounes Bensouda MourriDeepLearning.AI23 Courses•1,620,585 learnersOKTop InstructorEnroll for FreeStarts Jun 5602,204 already enrolled3 modulesGain insight into a topic and learn the fundamentals.4.9(63,394 reviews)Intermediate levelRecommended' metadata={'source': 'https://www.coursera.org/learn/deep-neural-network', 'title': 'Improving Deep Neural Networks: Hyperparameter Tuning, Regularization and Optimization | Coursera', 'description': 'Offered by DeepLearning.AI. In the second course of the Deep Learning Specialization, you will open the deep learning black box to ... Enroll for free.', 'language': 'en'}\n",
            "page_content='learnersOKTop InstructorEnroll for FreeStarts Jun 5602,204 already enrolled3 modulesGain insight into a topic and learn the fundamentals.4.9(63,394 reviews)Intermediate levelRecommended experienceRecommended experienceIntermediate levelIntermediate Python skills: basic programming, understanding of for loops, if/else statements, data structuresA basic grasp of linear algebra & MLOKFlexible scheduleApprox. 23 hoursLearn at your own pace96%Most learners liked this course3 modulesGain insight into a topic and learn the fundamentals.4.9(63,394 reviews)Intermediate levelRecommended experienceRecommended experienceIntermediate levelIntermediate Python skills: basic programming, understanding of for loops, if/else statements, data structuresA basic grasp of linear algebra & MLOKFlexible scheduleApprox. 23 hoursLearn at your own pace96%Most learners liked this courseAboutOutcomesModulesRecommendationsTestimonialsReviewsSkills you'll gainArtificial Intelligence and Machine Learning' metadata={'source': 'https://www.coursera.org/learn/deep-neural-network', 'title': 'Improving Deep Neural Networks: Hyperparameter Tuning, Regularization and Optimization | Coursera', 'description': 'Offered by DeepLearning.AI. In the second course of the Deep Learning Specialization, you will open the deep learning black box to ... Enroll for free.', 'language': 'en'}\n",
            "20\n"
          ]
        }
      ],
      "source": [
        "# checking the splits, what info in each split(docs), how many splits\n",
        "print(splits[1])\n",
        "print(splits[2])\n",
        "print(len(splits))"
      ]
    },
    {
      "cell_type": "code",
      "execution_count": 7,
      "metadata": {
        "id": "3oerD_sQ0uq8"
      },
      "outputs": [],
      "source": [
        "# converting textual info into numbers, vector embeddings and storing them in vector store\n",
        "from langchain_google_genai import GoogleGenerativeAIEmbeddings\n",
        "from langchain.vectorstores import Chroma\n",
        "\n",
        "# Specify the model name for the embeddings\n",
        "vectorstore = Chroma.from_documents(documents=splits, embedding=GoogleGenerativeAIEmbeddings(model=\"models/embedding-001\"))"
      ]
    },
    {
      "cell_type": "code",
      "execution_count": 8,
      "metadata": {
        "colab": {
          "base_uri": "https://localhost:8080/"
        },
        "id": "3fwVwmPM1KRl",
        "outputId": "f174f260-34ab-466a-ef1f-f3f02e2dd667"
      },
      "outputs": [
        {
          "name": "stdout",
          "output_type": "stream",
          "text": [
            "20\n"
          ]
        }
      ],
      "source": [
        "#created 20 vectors\n",
        "print(vectorstore._collection.count())"
      ]
    },
    {
      "cell_type": "code",
      "execution_count": 9,
      "metadata": {
        "id": "_gp06lxE1Pj1"
      },
      "outputs": [],
      "source": [
        "#checking how vectors(UID) lookslike\n",
        "#print(vectorstore._collection.get())"
      ]
    },
    {
      "cell_type": "markdown",
      "metadata": {
        "id": "W1tSsiTV2fLT"
      },
      "source": [
        "Here we can see the embeddings[array of numbers] and documents that are attached to first UID. Also you can see the text that is related to first UID. We can check this for multiple vectors by changing the value of 'ids'"
      ]
    },
    {
      "cell_type": "code",
      "execution_count": 10,
      "metadata": {
        "colab": {
          "base_uri": "https://localhost:8080/"
        },
        "collapsed": true,
        "id": "60JzAnlX1ZY6",
        "outputId": "1cb56db7-1418-4f25-8cc1-0efef176320c"
      },
      "outputs": [
        {
          "name": "stdout",
          "output_type": "stream",
          "text": [
            "\n",
            " Collection-1  {'ids': [], 'embeddings': array([], dtype=float64), 'documents': [], 'uris': None, 'included': ['embeddings', 'documents'], 'data': None, 'metadatas': None}\n"
          ]
        }
      ],
      "source": [
        "print(\"\\n Collection-1 \", vectorstore._collection.get(ids = ['3f407c61-709f-4980-8e71-05c58ef84a1b'], include=['embeddings', 'documents']))"
      ]
    },
    {
      "cell_type": "code",
      "execution_count": 11,
      "metadata": {
        "id": "MfjCtPwD2_QI"
      },
      "outputs": [],
      "source": [
        "# RAG pipeline\n",
        "retriever = vectorstore.as_retriever()"
      ]
    },
    {
      "cell_type": "code",
      "execution_count": 12,
      "metadata": {
        "colab": {
          "base_uri": "https://localhost:8080/"
        },
        "id": "c7mZtJKH5p8n",
        "outputId": "39874f67-bb90-4264-a7db-aa80a13191c8"
      },
      "outputs": [
        {
          "name": "stderr",
          "output_type": "stream",
          "text": [
            "/opt/anaconda3/lib/python3.12/site-packages/langsmith/client.py:272: LangSmithMissingAPIKeyWarning: API key must be provided when using hosted LangSmith API\n",
            "  warnings.warn(\n"
          ]
        }
      ],
      "source": [
        "#Agumentation\n",
        "# Create a LANGSMITH_API_KEY in Settings > API Keys\n",
        "from langchain import hub\n",
        "prompt = hub.pull(\"rlm/rag-prompt\")"
      ]
    },
    {
      "cell_type": "code",
      "execution_count": 13,
      "metadata": {
        "id": "T7Bwst4r80aV"
      },
      "outputs": [],
      "source": [
        "#setting up llm\n",
        "from langchain_google_genai import ChatGoogleGenerativeAI\n",
        "llm = ChatGoogleGenerativeAI(model=\"gemini-2.0-flash\")"
      ]
    },
    {
      "cell_type": "code",
      "execution_count": 14,
      "metadata": {
        "id": "oQq8zxMK_RX1"
      },
      "outputs": [],
      "source": [
        "#the prompt given by the user is passed as it is to 'question' using 'RunnablePassthrough'\n",
        "from langchain_core.runnables import RunnablePassthrough\n",
        "from langchain_core.output_parsers import StrOutputParser"
      ]
    },
    {
      "cell_type": "code",
      "execution_count": 15,
      "metadata": {
        "id": "qTrHx6wXA1jC"
      },
      "outputs": [],
      "source": [
        "# we are joining all the docs form retriver relevent to context\n",
        "def format_docs(docs):\n",
        "  return \"\\n\".join(doc.page_content for doc in docs)"
      ]
    },
    {
      "cell_type": "code",
      "execution_count": 16,
      "metadata": {
        "id": "t9wdgdoY__Fn"
      },
      "outputs": [],
      "source": [
        "#pass the context and question to 'prompt', for 'llm', we only need context as output\n",
        "rag_chain = ({\"context\": retriever | format_docs, \"question\": RunnablePassthrough()}\n",
        "             | prompt\n",
        "             | llm\n",
        "             | StrOutputParser())"
      ]
    },
    {
      "cell_type": "code",
      "execution_count": 17,
      "metadata": {
        "colab": {
          "base_uri": "https://localhost:8080/",
          "height": 71
        },
        "id": "pCW-QlkkEi-F",
        "outputId": "270fbe6f-c87c-47b2-8be5-61f150812f71"
      },
      "outputs": [
        {
          "data": {
            "text/plain": [
              "'The provided context mentions a \"Deep Learning Specialization\" course, which includes \"Artificial Intelligence and Machine Learning (AI/ML).\" It also references other courses and specializations in technical, analytical, and business skills. However, it does not explicitly state the name of a single course.'"
            ]
          },
          "execution_count": 17,
          "metadata": {},
          "output_type": "execute_result"
        }
      ],
      "source": [
        "#Getting o/p from the llm using rag pipeline\n",
        "rag_chain.invoke(\"What is course name\")"
      ]
    },
    {
      "cell_type": "code",
      "execution_count": 18,
      "metadata": {
        "colab": {
          "base_uri": "https://localhost:8080/",
          "height": 89
        },
        "id": "QHOY20PqF1EH",
        "outputId": "44d1ae9e-d3f8-48d0-a58c-8b17178f410b"
      },
      "outputs": [
        {
          "data": {
            "text/plain": [
              "'The course has a rating of 4.9 based on 63,394 reviews. 88.21% of the reviews gave it 5 stars and 10.57% gave it 4 stars. A few reviews mention the structure, assignments, and tutorials were great.'"
            ]
          },
          "execution_count": 18,
          "metadata": {},
          "output_type": "execute_result"
        }
      ],
      "source": [
        "rag_chain.invoke(\"What is rating of this course\")"
      ]
    },
    {
      "cell_type": "code",
      "execution_count": 19,
      "metadata": {
        "colab": {
          "base_uri": "https://localhost:8080/",
          "height": 71
        },
        "id": "9URjp0BFGX6n",
        "outputId": "925d3e0a-3bb2-4d18-85a8-450f7e4a00e8"
      },
      "outputs": [
        {
          "data": {
            "text/plain": [
              "'Based on the context, there are three modules mentioned in the course. These modules cover topics such as optimization algorithms, hyperparameter tuning, and programming frameworks. The modules include videos, readings, and assignments.'"
            ]
          },
          "execution_count": 19,
          "metadata": {},
          "output_type": "execute_result"
        }
      ],
      "source": [
        "rag_chain.invoke(\"How many modules in the course\")"
      ]
    },
    {
      "cell_type": "code",
      "execution_count": 20,
      "metadata": {
        "colab": {
          "base_uri": "https://localhost:8080/",
          "height": 89
        },
        "id": "rJLCLxFXGtdS",
        "outputId": "f2efcdd7-e974-4dec-9ed7-65c1f90ea937"
      },
      "outputs": [
        {
          "data": {
            "text/plain": [
              "'To access graded assignments and earn a Certificate, you need to purchase the Certificate experience. If you only want to read and view the course content, you can audit the course for free. Financial aid or a scholarship may also be available if you cannot afford the enrollment fee.'"
            ]
          },
          "execution_count": 20,
          "metadata": {},
          "output_type": "execute_result"
        }
      ],
      "source": [
        "rag_chain.invoke(\"What is the price of this course\")"
      ]
    },
    {
      "cell_type": "code",
      "execution_count": 21,
      "metadata": {
        "colab": {
          "base_uri": "https://localhost:8080/",
          "height": 107
        },
        "id": "cUgZCT1UG6kD",
        "outputId": "33231fcf-b938-4b02-a78d-34a7a1873748"
      },
      "outputs": [
        {
          "data": {
            "text/plain": [
              "'Jennifer J., a learner since 2020, said that learning at her own pace and rhythm on Coursera has been an amazing experience. Larry W., a learner since 2021, said that he directly applied the concepts and skills he learned from his courses to an exciting new project at work. One reviewer loved the structure of the course, the assignments, and the tutorials.'"
            ]
          },
          "execution_count": 21,
          "metadata": {},
          "output_type": "execute_result"
        }
      ],
      "source": [
        "rag_chain.invoke(\"give any testimonial of the course\")"
      ]
    }
  ],
  "metadata": {
    "colab": {
      "provenance": []
    },
    "kernelspec": {
      "display_name": "base",
      "language": "python",
      "name": "python3"
    },
    "language_info": {
      "codemirror_mode": {
        "name": "ipython",
        "version": 3
      },
      "file_extension": ".py",
      "mimetype": "text/x-python",
      "name": "python",
      "nbconvert_exporter": "python",
      "pygments_lexer": "ipython3",
      "version": "3.12.4"
    }
  },
  "nbformat": 4,
  "nbformat_minor": 0
}
